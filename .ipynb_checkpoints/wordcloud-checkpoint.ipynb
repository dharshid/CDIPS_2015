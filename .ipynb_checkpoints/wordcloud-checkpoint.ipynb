{
 "cells": [
  {
   "cell_type": "code",
   "execution_count": 1,
   "metadata": {
    "collapsed": true
   },
   "outputs": [],
   "source": [
    "import pandas as pd\n",
    "    "
   ]
  },
  {
   "cell_type": "code",
   "execution_count": 9,
   "metadata": {
    "collapsed": true
   },
   "outputs": [],
   "source": [
    "def wordCloudString(wordsData, nFeatures, groupNum):\n",
    "    wordCloudStr = \"\"\n",
    "    startIndex = 20*groupNum  \n",
    "    for i in range(0,nFeatures):\n",
    "        word=wordsData.loc[startIndex+i,'word']\n",
    "        for j in range(0,int(wordsData.loc[startIndex+i,'counts']/10)):\n",
    "            wordCloudStr += word\n",
    "            wordCloudStr += \" \"\n",
    "    return wordCloudStr"
   ]
  },
  {
   "cell_type": "code",
   "execution_count": 11,
   "metadata": {
    "collapsed": false
   },
   "outputs": [],
   "source": [
    "ageGroupFeatures = pd.read_csv(\"../gn_age_group_all.csv\")\n",
    "nFeatures = 20\n",
    "wordCloudList = []\n",
    "for i in range(0,6):\n",
    "    wordCloudList.append(wordCloudString(ageGroupFeatures, nFeatures, i))"
   ]
  },
  {
   "cell_type": "code",
   "execution_count": 13,
   "metadata": {
    "collapsed": false
   },
   "outputs": [
    {
     "name": "stdout",
     "output_type": "stream",
     "text": [
      "love love love love love love love love love love love love love love love love love love love love love love love love love love love love love love love love love love love love love love love love love love love love love love love love love love love love love love love love love love love love love love love love love love love love love love love love love love love love love love love love love love love love love love love love love love love love love love love love love love love love love love love love love love love love love love love love love love love love love love love love love love love love love love love love love love love love love love love love love love love love love love love love love love love love love love love love love love love love love love love love love love love love love love love love love love love love love love love love love love love love love love love love love love love love love love love love love love love love love love love love love love love love love love love love love love love love love love love love love love love love love love love love love love love love love love love love love love love love love love love love love love love love love love love love love love love love love love love love love love love love love love love love love love love love love love love love love love love love love love love love love love love love love love love love love love love love love love love love love love love love love love love love love love love love love love love love love love love love love love love love love love love love love love love love love love love love love love love love love love love love love love love love love love love love love love love love love love love love love love love love love love love love love love love love love love seo seo seo seo seo seo seo seo seo seo seo seo seo seo seo seo seo seo seo seo seo seo seo seo seo seo seo seo seo seo seo seo seo seo seo seo seo seo seo seo seo seo seo seo seo seo seo seo seo seo seo seo seo seo seo seo seo seo seo seo seo seo seo seo seo seo seo seo seo seo seo seo seo seo seo seo seo seo seo seo seo seo seo seo seo seo seo seo seo seo seo seo seo seo seo seo seo seo seo seo seo seo seo seo seo seo seo seo seo seo seo seo seo seo seo seo seo seo seo seo seo seo seo seo seo seo seo seo seo seo seo music music music music music music music music music music music music music music music music music music music music music music music music music music music music music music music music music music music music music music music music music music music music music music music music music music music music music music music music music music music music music music music music music music music music music music music music music music music music music music hate hate hate hate hate hate hate hate hate hate hate hate hate hate hate hate hate hate hate hate hate hate hate hate hate hate hate hate hate hate hate hate hate hate hate hate hate hate hate hate hate hate hate hate hate hate hate hate hate hate hate hate hate hate hate hate hate hate hate hate hate hate hate know know know know know know know know know know know know know know know know know know know know know know know know know know know know know know know know know know know know know know know know know know know know know know know know know know know know know know know know know know know know know new new new new new new new new new new new new new new new new new new new new new new new new new new new new new new new new new new new new new new new new new new new new new new new new new new new new new new new new new new new new need need need need need need need need need need need need need need need need need need need need need need need need need need need need need need need need need need need need need need need need need need need need need need need need need need need need need think think think think think think think think think think think think think think think think think think think think think think think think think think think think think think think think think think think think think think think think think think think think think think think think think think think think people people people people people people people people people people people people people people people people people people people people people people people people people people people people people people people people people people people people people people people people people people people people someone someone someone someone someone someone someone someone someone someone someone someone someone someone someone someone someone someone someone someone someone someone someone someone someone someone someone someone someone someone someone someone someone someone someone someone someone someone someone someone someone someone someone someone offshore offshore offshore offshore offshore offshore offshore offshore offshore offshore offshore offshore offshore offshore offshore offshore offshore offshore offshore offshore offshore offshore offshore offshore offshore offshore offshore offshore offshore offshore offshore offshore offshore offshore offshore offshore offshore offshore offshore offshore offshore offshore offshore woman woman woman woman woman woman woman woman woman woman woman woman woman woman woman woman woman woman woman woman woman woman woman woman woman woman woman woman woman woman woman woman woman woman woman woman woman woman believe believe believe believe believe believe believe believe believe believe believe believe believe believe believe believe believe believe believe believe believe believe believe believe believe believe believe believe believe believe believe believe believe believe believe believe believe person person person person person person person person person person person person person person person person person person person person person person person person person person person person person person person person person person person person person experience experience experience experience experience experience experience experience experience experience experience experience experience experience experience experience experience experience experience experience experience experience experience experience experience experience experience experience experience experience experience experience experience experience experience experience life life life life life life life life life life life life life life life life life life life life life life life life life life life life life life life life life life life project project project project project project project project project project project project project project project project project project project project project project project project project project project project project project project project project project write write write write write write write write write write write write write write write write write write write write write write write write write write write write write write write write heating heating heating heating heating heating heating heating heating heating heating heating heating heating heating heating heating heating heating heating heating heating heating heating heating heating heating heating heating heating heating heating vitamin vitamin vitamin vitamin vitamin vitamin vitamin vitamin vitamin vitamin vitamin vitamin vitamin vitamin vitamin vitamin vitamin vitamin vitamin vitamin vitamin vitamin vitamin vitamin vitamin vitamin vitamin vitamin vitamin vitamin vitamin vitamin \n"
     ]
    }
   ],
   "source": [
    "print wordCloudList[1]"
   ]
  },
  {
   "cell_type": "code",
   "execution_count": null,
   "metadata": {
    "collapsed": true
   },
   "outputs": [],
   "source": []
  }
 ],
 "metadata": {
  "kernelspec": {
   "display_name": "Python 2",
   "language": "python",
   "name": "python2"
  },
  "language_info": {
   "codemirror_mode": {
    "name": "ipython",
    "version": 2
   },
   "file_extension": ".py",
   "mimetype": "text/x-python",
   "name": "python",
   "nbconvert_exporter": "python",
   "pygments_lexer": "ipython2",
   "version": "2.7.10"
  }
 },
 "nbformat": 4,
 "nbformat_minor": 0
}
