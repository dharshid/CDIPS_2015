{
 "cells": [
  {
   "cell_type": "code",
   "execution_count": 235,
   "metadata": {
    "collapsed": false
   },
   "outputs": [],
   "source": [
    "#!/usr/bin/env python\n",
    "\n",
    "\"\"\"\n",
    "takes all rows for the 50 most-posted-in groups, removes the weird users,\n",
    "and outputs the subset along with unique user ids.\n",
    "Takes the EP_data.csv file.\n",
    "\"\"\"\n",
    "\n",
    "import pandas as pd\n",
    "import numpy as np\n",
    "\n",
    "#read in the full Experience Project file\n",
    "datafile = pd.read_csv('EP_data.csv')\n",
    "\n",
    "#get a list of the 50 groups with the most posts\n",
    "group_count = pd.Series(datafile[\"gid\"])\n",
    "top50 = group_count.value_counts()[0:50]"
   ]
  },
  {
   "cell_type": "code",
   "execution_count": 240,
   "metadata": {
    "collapsed": false
   },
   "outputs": [],
   "source": [
    "#and if you'd like to see the groups along with more info:\n",
    "#print (top50)\n",
    "#sumtop50 = top50.sum()\n",
    "#print ('there are %d total posts in the top 50 groups') % sumtop50"
   ]
  },
  {
   "cell_type": "code",
   "execution_count": 241,
   "metadata": {
    "collapsed": false
   },
   "outputs": [],
   "source": [
    "groups = []\n",
    "for index, row in top50.iteritems():\n",
    "    groups.append(index)\n",
    "#print 'The top 50 groups are:',groups"
   ]
  },
  {
   "cell_type": "code",
   "execution_count": 242,
   "metadata": {
    "collapsed": false
   },
   "outputs": [],
   "source": [
    "#make a smaller dataset containing only entries with top group ids\n",
    "subset_dirty = datafile[datafile['gid'].isin(groups)]\n",
    "#print len(subset_dirty), 'should equal the number of posts calculated above:', sumtop50\n",
    "#clean subset, removing entries by suspected moderator\n",
    "subset = subset_dirty[subset_dirty['num_entries']!=65535]\n",
    "#print 'after removing fake user, the list is this long:',len(subset)"
   ]
  },
  {
   "cell_type": "code",
   "execution_count": 243,
   "metadata": {
    "collapsed": false
   },
   "outputs": [],
   "source": [
    "#add user id to the subset\n",
    "#read in file with member ids matched to other data\n",
    "members = pd.read_csv('members.csv')\n",
    "#print members.columns\n",
    "#print subset.columns"
   ]
  },
  {
   "cell_type": "code",
   "execution_count": 246,
   "metadata": {
    "collapsed": false
   },
   "outputs": [],
   "source": [
    "#merge our subset with member based upon matching data points\n",
    "IDsubset = pd.merge(subset, members, how='inner', on=['created','birthdate','gender'])\n",
    "\n",
    "#details of each dataframe shows how many entries are in each\n",
    "#print IDsubset.head(n = 1)\n",
    "#print subset.shape\n",
    "#print members.shape\n",
    "#print IDsubset.shape"
   ]
  },
  {
   "cell_type": "code",
   "execution_count": 247,
   "metadata": {
    "collapsed": false
   },
   "outputs": [],
   "source": [
    "#I rename the dataframe to do some acrobatics with it\n",
    "df = IDsubset\n",
    "#make a new column that we will use to remove duplicates from our merge step\n",
    "df['gcbp'] = df.gender+df.created+df.birthdate+df.date_posted\n",
    "#sort dataframe so that duplicates are ordered by time of last login\n",
    "sortedIDsubset = df.sort_index(by=['gcbp','last_login_y'])\n",
    "#sortedIDsubset.head()\n",
    "#remove all duplicates from the 'gcbp' column, leaving unique entries\n",
    "#with a member id\n",
    "df2 = sortedIDsubset.drop_duplicates(subset ='gcbp')\n",
    "\n",
    "#give dataframe its old name and remove/rename unnecessary columns\n",
    "IDsubset = df2.drop(['gcbp','last_login_y'], 1)\n",
    "IDsubset = IDsubset.rename(columns = {'last_login_x':'last_login'})"
   ]
  },
  {
   "cell_type": "code",
   "execution_count": 248,
   "metadata": {
    "collapsed": true
   },
   "outputs": [],
   "source": [
    "IDsubset.to_csv('topgroups')"
   ]
  }
 ],
 "metadata": {
  "kernelspec": {
   "display_name": "Python 2",
   "language": "python",
   "name": "python2"
  },
  "language_info": {
   "codemirror_mode": {
    "name": "ipython",
    "version": 2
   },
   "file_extension": ".py",
   "mimetype": "text/x-python",
   "name": "python",
   "nbconvert_exporter": "python",
   "pygments_lexer": "ipython2",
   "version": "2.7.10"
  }
 },
 "nbformat": 4,
 "nbformat_minor": 0
}
